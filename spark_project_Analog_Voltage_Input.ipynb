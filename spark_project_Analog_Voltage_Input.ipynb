{
 "cells": [
  {
   "cell_type": "code",
   "execution_count": 5,
   "id": "7c2939a5-848f-46cd-a0d2-16e47e867691",
   "metadata": {},
   "outputs": [],
   "source": [
    "from pyspark.sql import SparkSession\n",
    "from pyspark import SparkContext\n",
    "from pyspark.sql.functions import col, countDistinct, sumDistinct\n",
    "import pandas\n",
    "\n",
    "import seaborn as sns\n",
    "import matplotlib.pyplot as plt\n",
    "import os, re\n",
    "import itertools\n",
    "\n",
    "from pyspark.sql.functions import lit, regexp_extract\n",
    "#https://seaborn.pydata.org/tutorial/distributions.html\n"
   ]
  },
  {
   "cell_type": "code",
   "execution_count": 6,
   "id": "43ae1d69-85c7-4938-8e9f-65ba70ee5d81",
   "metadata": {},
   "outputs": [
    {
     "data": {
      "text/html": [
       "\n",
       "            <div>\n",
       "                <p><b>SparkSession - in-memory</b></p>\n",
       "                \n",
       "        <div>\n",
       "            <p><b>SparkContext</b></p>\n",
       "\n",
       "            <p><a href=\"http://amafvfwx2gshv29:4042\">Spark UI</a></p>\n",
       "\n",
       "            <dl>\n",
       "              <dt>Version</dt>\n",
       "                <dd><code>v3.1.2</code></dd>\n",
       "              <dt>Master</dt>\n",
       "                <dd><code>local[*]</code></dd>\n",
       "              <dt>AppName</dt>\n",
       "                <dd><code>Test</code></dd>\n",
       "            </dl>\n",
       "        </div>\n",
       "        \n",
       "            </div>\n",
       "        "
      ],
      "text/plain": [
       "<pyspark.sql.session.SparkSession at 0x7fa2f98d19a0>"
      ]
     },
     "execution_count": 6,
     "metadata": {},
     "output_type": "execute_result"
    }
   ],
   "source": [
    "spark = SparkSession.builder.appName(\"Test\").getOrCreate()\n",
    "spark"
   ]
  },
  {
   "cell_type": "code",
   "execution_count": 7,
   "id": "7a9f76ab-dde2-4f95-9db7-7cccfecbead5",
   "metadata": {},
   "outputs": [
    {
     "name": "stdout",
     "output_type": "stream",
     "text": [
      "<class 'list'>\n",
      "['2021-02-10_0038_TestName_0000_0005.xlsx', '.DS_Store', '2021-03-06_1326_TestName_0000_0007.xlsx', '2021-05-06_2209_TestName_0000_0012.xlsx', '~$2020-12-22_2304_TestName_0000_0001.xlsx', '2020-12-10_1608_TestName_0000_0000.xlsx', '2021-03-18_1952_TestName_0000_0008.xlsx', '2021-01-04_0535_TestName_0000_0002.xlsx', '2021-01-16_1152_TestName_0000_0003.xlsx', '2021-02-22_0701_TestName_0000_0006.xlsx', '~$2021-02-10_0038_TestName_0000_0005.xlsx', '2021-04-12_0934_TestName_0000_0010.xlsx', '2020-12-22_2304_TestName_0000_0001.xlsx', '2021-05-19_0423_TestName_0000_0013.xlsx', '2021-01-28_1812_TestName_0000_0004.xlsx', '2021-04-24_1549_TestName_0000_0011.xlsx', '2021-03-31_0317_TestName_0000_0009.xlsx']\n"
     ]
    }
   ],
   "source": [
    "\n",
    "dir=os.listdir('/Users/felix.baertschi/Documents/Dev/school/excel/')\n",
    "print(type(dir))\n",
    "print(dir)\n",
    "sparkDF = spark.read.format('/Users/felix.baertschi/Documents/Dev/school/excel/2020-12-22_2304_TestName_0000_0001.xlsx')"
   ]
  },
  {
   "cell_type": "code",
   "execution_count": 8,
   "id": "1b45c820-94bc-4d7d-8f6f-45f9607d9a06",
   "metadata": {},
   "outputs": [
    {
     "ename": "IndentationError",
     "evalue": "expected an indented block (<ipython-input-8-37ccd494b881>, line 12)",
     "output_type": "error",
     "traceback": [
      "\u001b[0;36m  File \u001b[0;32m\"<ipython-input-8-37ccd494b881>\"\u001b[0;36m, line \u001b[0;32m12\u001b[0m\n\u001b[0;31m    pdf1 = pandas.read_excel(file, sheet_name='Analog Voltage Input') # pandas data frame\u001b[0m\n\u001b[0m    ^\u001b[0m\n\u001b[0;31mIndentationError\u001b[0m\u001b[0;31m:\u001b[0m expected an indented block\n"
     ]
    }
   ],
   "source": [
    "#loop through dir and merge all files\n",
    "directory = os.listdir('/Users/felix.baertschi/Documents/Dev/school/excel/')\n",
    "pattern = '(.*.xlsx)'\n",
    "\n",
    "for file in directory:\n",
    "    if re.match(pattern, file): # get only .xlsx files\n",
    "        \n",
    "        \n",
    "       # print(file, next(directory,None)\n",
    "        \n",
    "        \n",
    "    pdf1 = pandas.read_excel(file, sheet_name='Analog Voltage Input') # pandas data frame\n",
    "     pdf2 = pandas.read_excel(next(file), sheet_name='Analog Voltage Input')\n",
    "    sdf1 = spark.createDataFrame(pdf1) #spark data frame\n",
    "    sdf2 = spark.createDataFrame(pdf2)\n",
    "    msdf = sdf1.union(sdf2) #merged spark data frame\n",
    "    \n",
    "    \n",
    "  #  df1.union(df2)"
   ]
  },
  {
   "cell_type": "code",
   "execution_count": 9,
   "id": "db96e031-4d15-4239-838a-7ce47dfc4ae4",
   "metadata": {},
   "outputs": [],
   "source": [
    "#read excel with pandas\n",
    "pdf0 = pandas.read_excel('/Users/felix.baertschi/Documents/Dev/school/excel/2020-12-10_1608_TestName_0000_0000.xlsx', sheet_name='Analog Voltage Input')\n",
    "pdf1 = pandas.read_excel('/Users/felix.baertschi/Documents/Dev/school/excel/2020-12-22_2304_TestName_0000_0001.xlsx', sheet_name='Analog Voltage Input')\n",
    "pdf2 = pandas.read_excel('/Users/felix.baertschi/Documents/Dev/school/excel/2021-01-04_0535_TestName_0000_0002.xlsx', sheet_name='Analog Voltage Input')\n",
    "pdf3 = pandas.read_excel('/Users/felix.baertschi/Documents/Dev/school/excel/2021-01-16_1152_TestName_0000_0003.xlsx', sheet_name='Analog Voltage Input')\n",
    "pdf4 = pandas.read_excel('/Users/felix.baertschi/Documents/Dev/school/excel/2021-01-28_1812_TestName_0000_0004.xlsx', sheet_name='Analog Voltage Input')\n",
    "pdf5 = pandas.read_excel('/Users/felix.baertschi/Documents/Dev/school/excel/2021-02-10_0038_TestName_0000_0005.xlsx', sheet_name='Analog Voltage Input')\n",
    "pdf6 = pandas.read_excel('/Users/felix.baertschi/Documents/Dev/school/excel/2021-02-22_0701_TestName_0000_0006.xlsx', sheet_name='Analog Voltage Input')\n",
    "pdf7 = pandas.read_excel('/Users/felix.baertschi/Documents/Dev/school/excel/2021-03-06_1326_TestName_0000_0007.xlsx', sheet_name='Analog Voltage Input')\n",
    "pdf8 = pandas.read_excel('/Users/felix.baertschi/Documents/Dev/school/excel/2021-03-18_1952_TestName_0000_0008.xlsx', sheet_name='Analog Voltage Input')\n",
    "pdf9 = pandas.read_excel('/Users/felix.baertschi/Documents/Dev/school/excel/2021-03-31_0317_TestName_0000_0009.xlsx', sheet_name='Analog Voltage Input')\n",
    "pdf10 = pandas.read_excel('/Users/felix.baertschi/Documents/Dev/school/excel/2021-04-12_0934_TestName_0000_0010.xlsx', sheet_name='Analog Voltage Input')\n",
    "pdf11 = pandas.read_excel('/Users/felix.baertschi/Documents/Dev/school/excel/2021-04-24_1549_TestName_0000_0011.xlsx', sheet_name='Analog Voltage Input')\n",
    "pdf12 = pandas.read_excel('/Users/felix.baertschi/Documents/Dev/school/excel/2021-05-06_2209_TestName_0000_0012.xlsx', sheet_name='Analog Voltage Input')\n",
    "pdf13 = pandas.read_excel('/Users/felix.baertschi/Documents/Dev/school/excel/2021-05-19_0423_TestName_0000_0013.xlsx', sheet_name='Analog Voltage Input')\n",
    "\n",
    "\n",
    "\n"
   ]
  },
  {
   "cell_type": "code",
   "execution_count": 10,
   "id": "6064c35a-0f16-4c91-ba74-f2b3f39e2210",
   "metadata": {},
   "outputs": [],
   "source": [
    "#convert pandas df to spark df\n",
    "df0 = spark.createDataFrame(pdf0)\n",
    "df1 = spark.createDataFrame(pdf1)\n",
    "df2 = spark.createDataFrame(pdf2)\n",
    "df3 = spark.createDataFrame(pdf3)\n",
    "df4 = spark.createDataFrame(pdf4)\n",
    "df5 = spark.createDataFrame(pdf5)\n",
    "df6 = spark.createDataFrame(pdf6)\n",
    "df7 = spark.createDataFrame(pdf7)\n",
    "df8 = spark.createDataFrame(pdf8)\n",
    "df9 = spark.createDataFrame(pdf9)\n",
    "df10 = spark.createDataFrame(pdf10)\n",
    "df11 = spark.createDataFrame(pdf11)\n",
    "df12 = spark.createDataFrame(pdf12)\n",
    "df13 = spark.createDataFrame(pdf13)\n",
    "\n",
    "\n"
   ]
  },
  {
   "cell_type": "code",
   "execution_count": 11,
   "id": "93c747be-f8c8-4dd1-8271-b5bf19bcaad1",
   "metadata": {},
   "outputs": [
    {
     "name": "stdout",
     "output_type": "stream",
     "text": [
      "+------+---------------+----------+-----------+----------+------------+-----------+------+------+--------------------+------------------+------------------+------------------+------------------+-----------------+------------------+\n",
      "|SUT_ID|    Module Type|   Channel|Write Value|Read Value|Higher Limit|Lower Limit| Delta|Result|           Date Time|     Ambient Tempr|     TestBox Tempr|           24V Fix|           36V Fix|     Logic Supply|       Load Supply|\n",
      "+------+---------------+----------+-----------+----------+------------+-----------+------+------+--------------------+------------------+------------------+------------------+------------------+-----------------+------------------+\n",
      "| SUT_1|   AIT304-T/12B|%IW1.1.1.0|         -4|    -3.995|        -3.8|       -4.2| 0.005|     1|2020-12-22 22:47:...|    22.59326171875|26.029638290405273|23.991790771484375| 36.06895065307617|23.94464683532715|36.018550872802734|\n",
      "| SUT_1|   AIT304-T/12B|%IW1.1.1.1|         -1|      -1.0|        -0.8|       -1.2|   0.0|     1|2020-12-22 22:47:...|    22.59326171875|26.029638290405273|23.965965270996094|36.043148040771484|23.94464683532715|36.018550872802734|\n",
      "| SUT_1|   AIT304-T/12B|%IW1.1.2.0|         -5|    -4.995|        -4.8|       -5.2| 0.005|     1|2020-12-22 22:47:...|22.574371337890625|26.020193099975586|23.991790771484375| 36.06895065307617|23.94464683532715|36.018550872802734|\n",
      "| SUT_1|   AIT304-T/12B|%IW1.1.2.1|         -9|    -8.995|        -8.8|       -9.2| 0.005|     1|2020-12-22 22:47:...|22.574371337890625|26.020193099975586|23.965965270996094| 36.06895065307617|23.94464683532715|36.018550872802734|\n",
      "| SUT_2|SAIT304-T/12B/U|%IW2.1.3.0|         -4|    -4.008|       -3.95|      -4.05|-0.008|     1|2020-12-22 22:47:...|22.574371337890625|26.020193099975586|23.965965270996094| 36.06895065307617|23.94464683532715|36.018550872802734|\n",
      "| SUT_2|SAIT304-T/12B/U|%IW2.1.3.1|         -1|    -1.013|       -0.95|      -1.05|-0.013|     1|2020-12-22 22:47:...| 22.61212158203125|  26.0249080657959|23.965965270996094| 36.06895065307617|23.94464683532715|36.018550872802734|\n",
      "| SUT_1|   AIT304-T/12B|%IW1.1.1.0|         -6|    -6.005|        -5.8|       -6.2|-0.005|     1|2020-12-22 22:47:...|22.602691650390625|26.043813705444336|23.940139770507812| 36.06895065307617|23.94464683532715|36.018550872802734|\n",
      "| SUT_1|   AIT304-T/12B|%IW1.1.1.1|         -1|    -0.995|        -0.8|       -1.2| 0.005|     1|2020-12-22 22:47:...|22.602691650390625|26.043813705444336|23.965965270996094| 36.06895065307617|23.94464683532715|36.018550872802734|\n",
      "| SUT_1|   AIT304-T/12B|%IW1.1.2.0|         -8|      -8.0|        -7.8|       -8.2|   0.0|     1|2020-12-22 22:47:...|    22.59326171875|26.034353256225586|23.991790771484375| 36.06895065307617|23.94464683532715|36.018550872802734|\n",
      "| SUT_1|   AIT304-T/12B|%IW1.1.2.1|          4|       4.0|         4.2|        3.8|   0.0|     1|2020-12-22 22:47:...|    22.59326171875|26.034353256225586|23.991790771484375| 36.06895065307617|23.94464683532715|36.018550872802734|\n",
      "| SUT_2|SAIT304-T/12B/U|%IW2.1.3.0|          7|     6.979|        7.05|       6.95|-0.021|     1|2020-12-22 22:47:...|    22.59326171875|26.034353256225586|23.965965270996094|36.043148040771484|23.94464683532715|36.018550872802734|\n",
      "| SUT_2|SAIT304-T/12B/U|%IW2.1.3.1|          0|    -0.013|        0.05|      -0.05|-0.013|     1|2020-12-22 22:47:...|22.574371337890625|26.034353256225586|23.965965270996094| 36.06895065307617|23.94464683532715|36.018550872802734|\n",
      "| SUT_1|   AIT304-T/12B|%IW1.1.1.0|          8|     7.995|         8.2|        7.8|-0.005|     1|2020-12-22 22:48:...|22.574371337890625|  26.0249080657959|23.965965270996094| 36.06895065307617|23.94464683532715|36.018550872802734|\n",
      "| SUT_1|   AIT304-T/12B|%IW1.1.1.1|         -7|    -6.995|        -6.8|       -7.2| 0.005|     1|2020-12-22 22:48:...|22.574371337890625|  26.0249080657959|23.965965270996094| 36.06895065307617|23.94464683532715|36.018550872802734|\n",
      "| SUT_1|   AIT304-T/12B|%IW1.1.2.0|         -6|    -5.995|        -5.8|       -6.2| 0.005|     1|2020-12-22 22:48:...|    22.59326171875| 26.03908348083496|23.965965270996094|36.043148040771484|23.94464683532715|36.018550872802734|\n",
      "| SUT_1|   AIT304-T/12B|%IW1.1.2.1|         -5|      -5.0|        -4.8|       -5.2|   0.0|     1|2020-12-22 22:48:...|    22.59326171875| 26.03908348083496|23.965965270996094| 36.06895065307617|23.94464683532715|36.018550872802734|\n",
      "| SUT_2|SAIT304-T/12B/U|%IW2.1.3.0|         10|     9.965|       10.05|       9.95|-0.035|     1|2020-12-22 22:48:...|    22.59326171875| 26.03908348083496|23.965965270996094| 36.06895065307617|23.94464683532715|36.018550872802734|\n",
      "| SUT_2|SAIT304-T/12B/U|%IW2.1.3.1|          6|     5.979|        6.05|       5.95|-0.021|     1|2020-12-22 22:48:...|    22.59326171875|26.043813705444336|23.991790771484375|36.043148040771484|23.94464683532715|36.018550872802734|\n",
      "| SUT_1|   AIT304-T/12B|%IW1.1.1.0|         -8|     -7.99|        -7.8|       -8.2|  0.01|     1|2020-12-22 22:48:...|22.583831787109375|26.020177841186523|23.991790771484375| 36.06895065307617|23.94464683532715|36.018550872802734|\n",
      "| SUT_1|   AIT304-T/12B|%IW1.1.1.1|         -3|    -2.995|        -2.8|       -3.2| 0.005|     1|2020-12-22 22:48:...|22.583831787109375|26.020177841186523|23.965965270996094|36.043148040771484|23.94464683532715|36.018550872802734|\n",
      "+------+---------------+----------+-----------+----------+------------+-----------+------+------+--------------------+------------------+------------------+------------------+------------------+-----------------+------------------+\n",
      "only showing top 20 rows\n",
      "\n"
     ]
    }
   ],
   "source": [
    "df1.show()\n",
    "\n"
   ]
  },
  {
   "cell_type": "code",
   "execution_count": 12,
   "id": "e93e2e22-f373-40bb-8f75-9c8e84e04162",
   "metadata": {},
   "outputs": [
    {
     "name": "stdout",
     "output_type": "stream",
     "text": [
      "root\n",
      " |-- SUT_ID: string (nullable = true)\n",
      " |-- Module Type: string (nullable = true)\n",
      " |-- Channel: string (nullable = true)\n",
      " |-- Write Value: long (nullable = true)\n",
      " |-- Read Value: double (nullable = true)\n",
      " |-- Higher Limit: double (nullable = true)\n",
      " |-- Lower Limit: double (nullable = true)\n",
      " |-- Delta: double (nullable = true)\n",
      " |-- Result: long (nullable = true)\n",
      " |-- Date Time: timestamp (nullable = true)\n",
      " |-- Ambient Tempr: double (nullable = true)\n",
      " |-- TestBox Tempr: double (nullable = true)\n",
      " |-- 24V Fix: double (nullable = true)\n",
      " |-- 36V Fix: double (nullable = true)\n",
      " |-- Logic Supply: double (nullable = true)\n",
      " |-- Load Supply: double (nullable = true)\n",
      "\n",
      "+------+---------------+----------+-----------+----------+------------+-----------+------+------+-----------------------+------------------+------------------+------------------+------------------+-----------------+------------------+\n",
      "|SUT_ID|Module Type    |Channel   |Write Value|Read Value|Higher Limit|Lower Limit|Delta |Result|Date Time              |Ambient Tempr     |TestBox Tempr     |24V Fix           |36V Fix           |Logic Supply     |Load Supply       |\n",
      "+------+---------------+----------+-----------+----------+------------+-----------+------+------+-----------------------+------------------+------------------+------------------+------------------+-----------------+------------------+\n",
      "|SUT_1 |AIT304-T/12B   |%IW1.1.1.0|-4         |-3.995    |-3.8        |-4.2       |0.005 |1     |2020-12-22 22:47:43.745|22.59326171875    |26.029638290405273|23.991790771484375|36.06895065307617 |23.94464683532715|36.018550872802734|\n",
      "|SUT_1 |AIT304-T/12B   |%IW1.1.1.1|-1         |-1.0      |-0.8        |-1.2       |0.0   |1     |2020-12-22 22:47:44.09 |22.59326171875    |26.029638290405273|23.965965270996094|36.043148040771484|23.94464683532715|36.018550872802734|\n",
      "|SUT_1 |AIT304-T/12B   |%IW1.1.2.0|-5         |-4.995    |-4.8        |-5.2       |0.005 |1     |2020-12-22 22:47:44.485|22.574371337890625|26.020193099975586|23.991790771484375|36.06895065307617 |23.94464683532715|36.018550872802734|\n",
      "|SUT_1 |AIT304-T/12B   |%IW1.1.2.1|-9         |-8.995    |-8.8        |-9.2       |0.005 |1     |2020-12-22 22:47:44.84 |22.574371337890625|26.020193099975586|23.965965270996094|36.06895065307617 |23.94464683532715|36.018550872802734|\n",
      "|SUT_2 |SAIT304-T/12B/U|%IW2.1.3.0|-4         |-4.008    |-3.95       |-4.05      |-0.008|1     |2020-12-22 22:47:45.292|22.574371337890625|26.020193099975586|23.965965270996094|36.06895065307617 |23.94464683532715|36.018550872802734|\n",
      "|SUT_2 |SAIT304-T/12B/U|%IW2.1.3.1|-1         |-1.013    |-0.95       |-1.05      |-0.013|1     |2020-12-22 22:47:45.693|22.61212158203125 |26.0249080657959  |23.965965270996094|36.06895065307617 |23.94464683532715|36.018550872802734|\n",
      "|SUT_1 |AIT304-T/12B   |%IW1.1.1.0|-6         |-6.005    |-5.8        |-6.2       |-0.005|1     |2020-12-22 22:47:53.697|22.602691650390625|26.043813705444336|23.940139770507812|36.06895065307617 |23.94464683532715|36.018550872802734|\n",
      "|SUT_1 |AIT304-T/12B   |%IW1.1.1.1|-1         |-0.995    |-0.8        |-1.2       |0.005 |1     |2020-12-22 22:47:54.079|22.602691650390625|26.043813705444336|23.965965270996094|36.06895065307617 |23.94464683532715|36.018550872802734|\n",
      "|SUT_1 |AIT304-T/12B   |%IW1.1.2.0|-8         |-8.0      |-7.8        |-8.2       |0.0   |1     |2020-12-22 22:47:54.508|22.59326171875    |26.034353256225586|23.991790771484375|36.06895065307617 |23.94464683532715|36.018550872802734|\n",
      "|SUT_1 |AIT304-T/12B   |%IW1.1.2.1|4          |4.0       |4.2         |3.8        |0.0   |1     |2020-12-22 22:47:54.918|22.59326171875    |26.034353256225586|23.991790771484375|36.06895065307617 |23.94464683532715|36.018550872802734|\n",
      "|SUT_2 |SAIT304-T/12B/U|%IW2.1.3.0|7          |6.979     |7.05        |6.95       |-0.021|1     |2020-12-22 22:47:55.302|22.59326171875    |26.034353256225586|23.965965270996094|36.043148040771484|23.94464683532715|36.018550872802734|\n",
      "|SUT_2 |SAIT304-T/12B/U|%IW2.1.3.1|0          |-0.013    |0.05        |-0.05      |-0.013|1     |2020-12-22 22:47:55.653|22.574371337890625|26.034353256225586|23.965965270996094|36.06895065307617 |23.94464683532715|36.018550872802734|\n",
      "|SUT_1 |AIT304-T/12B   |%IW1.1.1.0|8          |7.995     |8.2         |7.8        |-0.005|1     |2020-12-22 22:48:03.788|22.574371337890625|26.0249080657959  |23.965965270996094|36.06895065307617 |23.94464683532715|36.018550872802734|\n",
      "|SUT_1 |AIT304-T/12B   |%IW1.1.1.1|-7         |-6.995    |-6.8        |-7.2       |0.005 |1     |2020-12-22 22:48:04.169|22.574371337890625|26.0249080657959  |23.965965270996094|36.06895065307617 |23.94464683532715|36.018550872802734|\n",
      "|SUT_1 |AIT304-T/12B   |%IW1.1.2.0|-6         |-5.995    |-5.8        |-6.2       |0.005 |1     |2020-12-22 22:48:04.626|22.59326171875    |26.03908348083496 |23.965965270996094|36.043148040771484|23.94464683532715|36.018550872802734|\n",
      "|SUT_1 |AIT304-T/12B   |%IW1.1.2.1|-5         |-5.0      |-4.8        |-5.2       |0.0   |1     |2020-12-22 22:48:04.965|22.59326171875    |26.03908348083496 |23.965965270996094|36.06895065307617 |23.94464683532715|36.018550872802734|\n",
      "|SUT_2 |SAIT304-T/12B/U|%IW2.1.3.0|10         |9.965     |10.05       |9.95       |-0.035|1     |2020-12-22 22:48:05.332|22.59326171875    |26.03908348083496 |23.965965270996094|36.06895065307617 |23.94464683532715|36.018550872802734|\n",
      "|SUT_2 |SAIT304-T/12B/U|%IW2.1.3.1|6          |5.979     |6.05        |5.95       |-0.021|1     |2020-12-22 22:48:05.732|22.59326171875    |26.043813705444336|23.991790771484375|36.043148040771484|23.94464683532715|36.018550872802734|\n",
      "|SUT_1 |AIT304-T/12B   |%IW1.1.1.0|-8         |-7.99     |-7.8        |-8.2       |0.01  |1     |2020-12-22 22:48:13.959|22.583831787109375|26.020177841186523|23.991790771484375|36.06895065307617 |23.94464683532715|36.018550872802734|\n",
      "|SUT_1 |AIT304-T/12B   |%IW1.1.1.1|-3         |-2.995    |-2.8        |-3.2       |0.005 |1     |2020-12-22 22:48:14.328|22.583831787109375|26.020177841186523|23.965965270996094|36.043148040771484|23.94464683532715|36.018550872802734|\n",
      "+------+---------------+----------+-----------+----------+------------+-----------+------+------+-----------------------+------------------+------------------+------------------+------------------+-----------------+------------------+\n",
      "only showing top 20 rows\n",
      "\n"
     ]
    }
   ],
   "source": [
    "df1.printSchema()\n",
    "df1.show(truncate=False)"
   ]
  },
  {
   "cell_type": "code",
   "execution_count": 13,
   "id": "4c87af31-c772-4d1b-8187-9fd6635d446a",
   "metadata": {},
   "outputs": [
    {
     "name": "stdout",
     "output_type": "stream",
     "text": [
      "+------+---------------+----------+-----------+----------+------------+-----------+------+------+-----------------------+------------------+------------------+------------------+------------------+-----------------+------------------+\n",
      "|SUT_ID|Module Type    |Channel   |Write Value|Read Value|Higher Limit|Lower Limit|Delta |Result|Date Time              |Ambient Tempr     |TestBox Tempr     |24V Fix           |36V Fix           |Logic Supply     |Load Supply       |\n",
      "+------+---------------+----------+-----------+----------+------------+-----------+------+------+-----------------------+------------------+------------------+------------------+------------------+-----------------+------------------+\n",
      "|SUT_1 |AIT304-T/12B   |%IW1.1.1.0|8          |7.995     |8.2         |7.8        |-0.005|1     |2020-12-10 16:08:39.098|23.7733154296875  |26.98395347595215 |23.965965270996094|36.06895065307617 |23.94464683532715|36.018550872802734|\n",
      "|SUT_1 |AIT304-T/12B   |%IW1.1.1.1|-9         |-8.985    |-8.8        |-9.2       |0.015 |1     |2020-12-10 16:08:39.594|23.763885498046875|26.98395347595215 |23.965965270996094|36.06895065307617 |23.94464683532715|36.018550872802734|\n",
      "|SUT_1 |AIT304-T/12B   |%IW1.1.2.0|-8         |-8.0      |-7.8        |-8.2       |0.0   |1     |2020-12-10 16:08:39.972|23.763885498046875|26.98395347595215 |23.991790771484375|36.043148040771484|23.94464683532715|36.018550872802734|\n",
      "|SUT_1 |AIT304-T/12B   |%IW1.1.2.1|-10        |-10.005   |-9.8        |-10.2      |-0.005|1     |2020-12-10 16:08:40.337|23.763885498046875|26.98395347595215 |23.965965270996094|36.043148040771484|23.94464683532715|36.018550872802734|\n",
      "|SUT_2 |SAIT304-T/12B/U|%IW2.1.3.0|7          |6.974     |7.05        |6.95       |-0.026|1     |2020-12-10 16:08:40.728|23.7733154296875  |26.98866844177246 |23.965965270996094|36.06895065307617 |23.94464683532715|36.018550872802734|\n",
      "|SUT_2 |SAIT304-T/12B/U|%IW2.1.3.1|-4         |-4.008    |-3.95       |-4.05      |-0.008|1     |2020-12-10 16:08:41.09 |23.7733154296875  |26.98866844177246 |23.965965270996094|36.06895065307617 |23.94464683532715|36.018550872802734|\n",
      "|SUT_1 |AIT304-T/12B   |%IW1.1.1.0|10         |9.995     |10.2        |9.8        |-0.005|1     |2020-12-10 16:08:49.137|23.7733154296875  |26.969762802124023|23.991790771484375|36.043148040771484|23.94464683532715|36.018550872802734|\n",
      "|SUT_1 |AIT304-T/12B   |%IW1.1.1.1|1          |1.005     |1.2         |0.8        |0.005 |1     |2020-12-10 16:08:49.476|23.7733154296875  |26.969762802124023|23.965965270996094|36.06895065307617 |23.94464683532715|36.018550872802734|\n",
      "|SUT_1 |AIT304-T/12B   |%IW1.1.2.0|2          |2.0       |2.2         |1.8        |0.0   |1     |2020-12-10 16:08:49.846|23.754425048828125|26.96503257751465 |23.965965270996094|36.06895065307617 |23.94464683532715|36.018550872802734|\n",
      "|SUT_1 |AIT304-T/12B   |%IW1.1.2.1|-6         |-6.0      |-5.8        |-6.2       |0.0   |1     |2020-12-10 16:08:50.306|23.754425048828125|26.96503257751465 |23.965965270996094|36.06895065307617 |23.94464683532715|36.018550872802734|\n",
      "|SUT_2 |SAIT304-T/12B/U|%IW2.1.3.0|-10        |-10.0     |-9.95       |-10.05     |0.0   |1     |2020-12-10 16:08:50.711|23.7733154296875  |26.969762802124023|23.965965270996094|36.06895065307617 |23.94464683532715|36.018550872802734|\n",
      "|SUT_2 |SAIT304-T/12B/U|%IW2.1.3.1|10         |9.965     |10.05       |9.95       |-0.035|1     |2020-12-10 16:08:51.14 |23.7733154296875  |26.969762802124023|23.965965270996094|36.06895065307617 |23.94464683532715|36.018550872802734|\n",
      "|SUT_1 |AIT304-T/12B   |%IW1.1.1.0|3          |3.0       |3.2         |2.8        |0.0   |1     |2020-12-10 16:08:58.956|23.7733154296875  |26.98866844177246 |23.965965270996094|36.06895065307617 |23.94464683532715|36.018550872802734|\n",
      "|SUT_1 |AIT304-T/12B   |%IW1.1.1.1|8          |7.99      |8.2         |7.8        |-0.01 |1     |2020-12-10 16:08:59.348|23.7733154296875  |26.98866844177246 |23.965965270996094|36.06895065307617 |23.94464683532715|36.018550872802734|\n",
      "|SUT_1 |AIT304-T/12B   |%IW1.1.2.0|-5         |-4.995    |-4.8        |-5.2       |0.005 |1     |2020-12-10 16:08:59.755|23.7733154296875  |26.988683700561523|23.965965270996094|36.06895065307617 |23.94464683532715|36.018550872802734|\n",
      "|SUT_1 |AIT304-T/12B   |%IW1.1.2.1|-9         |-9.0      |-8.8        |-9.2       |0.0   |1     |2020-12-10 16:09:00.098|23.7733154296875  |26.988683700561523|23.965965270996094|36.06895065307617 |23.94464683532715|36.018550872802734|\n",
      "|SUT_2 |SAIT304-T/12B/U|%IW2.1.3.0|-5         |-5.009    |-4.95       |-5.05      |-0.009|1     |2020-12-10 16:09:00.451|23.7733154296875  |26.988683700561523|23.965965270996094|36.043148040771484|23.94464683532715|36.018550872802734|\n",
      "|SUT_2 |SAIT304-T/12B/U|%IW2.1.3.1|-4         |-4.008    |-3.95       |-4.05      |-0.008|1     |2020-12-10 16:09:00.819|23.7733154296875  |26.98866844177246 |23.965965270996094|36.06895065307617 |23.94464683532715|36.018550872802734|\n",
      "|SUT_1 |AIT304-T/12B   |%IW1.1.1.0|6          |5.995     |6.2         |5.8        |-0.005|1     |2020-12-10 16:09:08.677|23.754425048828125|26.98866844177246 |23.965965270996094|36.06895065307617 |23.94464683532715|36.018550872802734|\n",
      "|SUT_1 |AIT304-T/12B   |%IW1.1.1.1|5          |5.0       |5.2         |4.8        |0.0   |1     |2020-12-10 16:09:09.018|23.754425048828125|26.98866844177246 |23.965965270996094|36.06895065307617 |23.94464683532715|36.018550872802734|\n",
      "+------+---------------+----------+-----------+----------+------------+-----------+------+------+-----------------------+------------------+------------------+------------------+------------------+-----------------+------------------+\n",
      "only showing top 20 rows\n",
      "\n"
     ]
    }
   ],
   "source": [
    "#merge df's\n",
    "unionDF0 = df0.union(df1)\n",
    "unionDF1 = unionDF0.union(df2)\n",
    "unionDF2 = unionDF1.union(df3)\n",
    "unionDF3 = unionDF2.union(df4)\n",
    "unionDF4 = unionDF3.union(df5)\n",
    "unionDF5 = unionDF4.union(df6)\n",
    "unionDF6 = unionDF5.union(df7)\n",
    "unionDF7 = unionDF6.union(df8)\n",
    "unionDF8 = unionDF7.union(df9)\n",
    "unionDF9 = unionDF8.union(df10)\n",
    "unionDF10 = unionDF9.union(df11)\n",
    "unionDF11 = unionDF10.union(df12)\n",
    "unionDF = unionDF11.union(df13)\n",
    "\n",
    "\n",
    "unionDF.show(truncate=False)\n"
   ]
  },
  {
   "cell_type": "code",
   "execution_count": 29,
   "id": "12cfa63f-7d9c-4656-bad0-5cb1f61818c8",
   "metadata": {},
   "outputs": [
    {
     "data": {
      "text/plain": [
       "[0.03, 0.03, -0.009, -0.045, -0.045]"
      ]
     },
     "execution_count": 29,
     "metadata": {},
     "output_type": "execute_result"
    }
   ],
   "source": [
    "#quantile\n",
    "unionDF.approxQuantile(\"Delta\", [0.95,0.75,0.5,0.25,0.05], 0.25)"
   ]
  },
  {
   "cell_type": "code",
   "execution_count": 14,
   "id": "96453e62-e216-46cb-93ec-72032f9d3e6e",
   "metadata": {},
   "outputs": [
    {
     "name": "stdout",
     "output_type": "stream",
     "text": [
      "+----------+\n",
      "|max(Delta)|\n",
      "+----------+\n",
      "|      0.03|\n",
      "+----------+\n",
      "\n"
     ]
    }
   ],
   "source": [
    "#sho max value from delta\n",
    "unionDF.agg({'Delta': 'max'\n",
    "             }).show()"
   ]
  },
  {
   "cell_type": "code",
   "execution_count": 15,
   "id": "f7d35f5b-f459-4a00-9ba9-ebc7eef94dba",
   "metadata": {},
   "outputs": [
    {
     "name": "stdout",
     "output_type": "stream",
     "text": [
      "+----------+\n",
      "|min(Delta)|\n",
      "+----------+\n",
      "|    -0.045|\n",
      "+----------+\n",
      "\n"
     ]
    }
   ],
   "source": [
    "#show min value from Delta\n",
    "unionDF.agg({'Delta': 'min'\n",
    "             }).show()"
   ]
  },
  {
   "cell_type": "code",
   "execution_count": 16,
   "id": "733838eb-d463-4731-a4c1-b8881733f54d",
   "metadata": {},
   "outputs": [
    {
     "name": "stdout",
     "output_type": "stream",
     "text": [
      "+---------------+\n",
      "|Module Type    |\n",
      "+---------------+\n",
      "|AIT304-T/12B   |\n",
      "|SAIT304-T/12B/U|\n",
      "+---------------+\n",
      "\n"
     ]
    }
   ],
   "source": [
    "#count all the different modules\n",
    "unionDF.select(\"Module Type\").distinct().show(truncate=False)"
   ]
  },
  {
   "cell_type": "code",
   "execution_count": 17,
   "id": "e85ae34c-7d3b-42ed-b02d-db2888137c9d",
   "metadata": {},
   "outputs": [
    {
     "name": "stdout",
     "output_type": "stream",
     "text": [
      "+------+-----+------+------+------+-----+------+------+------+------+------+------+-----+------+------+------+------+------+------+------+------+-----+------+------+------+------+------+------+------+-----+-----+------+-----+------+-----+-----+----+-----+----+\n",
      "|-0.045|-0.04|-0.036|-0.035|-0.031|-0.03|-0.027|-0.026|-0.025|-0.023|-0.022|-0.021|-0.02|-0.019|-0.018|-0.017|-0.016|-0.015|-0.014|-0.013|-0.012|-0.01|-0.009|-0.008|-0.007|-0.005|-0.004|-0.003|   0.0|0.001|0.002| 0.005|0.006|  0.01|0.011|0.015|0.02|0.025|0.03|\n",
      "+------+-----+------+------+------+-----+------+------+------+------+------+------+-----+------+------+------+------+------+------+------+------+-----+------+------+------+------+------+------+------+-----+-----+------+-----+------+-----+-----+----+-----+----+\n",
      "|    12| 1750|     1| 26226|  4388|37241|   215| 79117| 12543|   685| 48261| 69891|   11|   157| 34432| 96606|  1469|  1273|  9701| 98436|  9925|56122| 59553| 53668|   725|285120| 65514|  5626|738338|18301|   58|457871| 1234|110800|   14|46626|6987|  911|   8|\n",
      "+------+-----+------+------+------+-----+------+------+------+------+------+------+-----+------+------+------+------+------+------+------+------+-----+------+------+------+------+------+------+------+-----+-----+------+-----+------+-----+-----+----+-----+----+\n",
      "\n"
     ]
    }
   ],
   "source": [
    "# show distribution\n",
    "unionDF.groupBy().pivot(\"Delta\").count().show()"
   ]
  },
  {
   "cell_type": "code",
   "execution_count": 18,
   "id": "76d91834-de5f-4e85-9398-dd9d362edc56",
   "metadata": {},
   "outputs": [
    {
     "name": "stdout",
     "output_type": "stream",
     "text": [
      "+------------------------------------------+\n",
      "|percentile(Delta, CAST(0.95 AS DOUBLE), 1)|\n",
      "+------------------------------------------+\n",
      "|                                      0.01|\n",
      "+------------------------------------------+\n",
      "\n"
     ]
    }
   ],
   "source": [
    "#\n",
    "unionDF.selectExpr('percentile(Delta, 0.95)').show()"
   ]
  },
  {
   "cell_type": "code",
   "execution_count": 19,
   "id": "ab9e377b-ff75-43b3-8f41-1172ca3471d2",
   "metadata": {},
   "outputs": [
    {
     "name": "stdout",
     "output_type": "stream",
     "text": [
      "(2439816, 16)\n"
     ]
    }
   ],
   "source": [
    "# get number of rows and columns (the size of the dataset)\n",
    "# https://www.andyupton.net/blog/2019/4/18/feature-engineering-with-pyspark\n",
    "print((unionDF.count(), len(unionDF.columns)))"
   ]
  },
  {
   "cell_type": "code",
   "execution_count": 20,
   "id": "00c82c63-8b5b-4345-b4c0-0f08cc3e8236",
   "metadata": {},
   "outputs": [
    {
     "name": "stdout",
     "output_type": "stream",
     "text": [
      "+-------+--------------------+\n",
      "|summary|               Delta|\n",
      "+-------+--------------------+\n",
      "|  count|             2439816|\n",
      "|   mean|-0.00408084503093...|\n",
      "| stddev|0.010449899729595596|\n",
      "|    min|              -0.045|\n",
      "|    max|                0.03|\n",
      "+-------+--------------------+\n",
      "\n"
     ]
    }
   ],
   "source": [
    "unionDF[['Delta']].describe().show()"
   ]
  },
  {
   "cell_type": "code",
   "execution_count": 21,
   "id": "cab7a38b-3275-4e49-8cac-b92e46879a2a",
   "metadata": {},
   "outputs": [
    {
     "name": "stdout",
     "output_type": "stream",
     "text": [
      "36.65672478501208\n"
     ]
    }
   ],
   "source": [
    "# Covariance \n",
    "# Covariance is a measure of how two variables change with respect to each \n",
    "# other. A positive number would mean that there is a tendency that as one \n",
    "# variable increases, the other increases as well. A negative number would \n",
    "# mean that as one variable increases, the other variable has a tendency to \n",
    "# decrease\n",
    "\n",
    "print(unionDF.cov('Write Value', 'Read Value'))"
   ]
  },
  {
   "cell_type": "code",
   "execution_count": 22,
   "id": "04dbe3e8-d28f-4ff2-a94d-1a8be813b74a",
   "metadata": {},
   "outputs": [
    {
     "name": "stdout",
     "output_type": "stream",
     "text": [
      "0.9999988694193953\n"
     ]
    }
   ],
   "source": [
    "# Correlation is perhaps more straightforward to interpret\n",
    "# Correlation is a normalized measure of covariance that is easier to\n",
    "# understand, as it provides quantitative measurements of the statistical \n",
    "# dependence between two random variables.\n",
    "\n",
    "print(unionDF.corr('Write Value', 'Read Value'))"
   ]
  },
  {
   "cell_type": "code",
   "execution_count": 23,
   "id": "f2c6b825-9721-4655-ac23-83dd03007222",
   "metadata": {},
   "outputs": [],
   "source": [
    "# Sample spark df and plot \n",
    "# It's a best practice to sample data from your Spark df into pandas so as to \n",
    "# not asplode your machine's memory. Remember, the idea is to use Spark for \n",
    "# data that is too large to fit in your machine's memory\n",
    "s_df = unionDF.select(['Write Value', 'Read Value'])\\\n",
    "         .sample(withReplacement=False, fraction=0.1, seed=42)"
   ]
  },
  {
   "cell_type": "code",
   "execution_count": 24,
   "id": "62e72700-3e6f-4620-9b07-2edbef65fee4",
   "metadata": {},
   "outputs": [],
   "source": [
    "# Create a Pandas df from the entire dataframe\n",
    "df_pandas = unionDF.toPandas()\n",
    "\n",
    "# Create a Pandas df from a subset of columns, those that are sampled\n",
    "#s_df_pandas = s_df.toPandas() "
   ]
  },
  {
   "cell_type": "code",
   "execution_count": 25,
   "id": "ed2d5089-accd-4ae7-acc6-efdbd52bab70",
   "metadata": {},
   "outputs": [
    {
     "data": {
      "text/plain": [
       "<seaborn.axisgrid.FacetGrid at 0x7fa2d8834730>"
      ]
     },
     "execution_count": 25,
     "metadata": {},
     "output_type": "execute_result"
    },
    {
     "data": {
      "image/png": "[encoded data removed]",
      "text/plain": [
       "<Figure size 360x360 with 1 Axes>"
      ]
     },
     "metadata": {
      "needs_background": "light"
     },
     "output_type": "display_data"
    }
   ],
   "source": [
    "sns.lmplot(y = 'Write Value', x = 'Read Value', data=df_pandas)"
   ]
  },
  {
   "cell_type": "code",
   "execution_count": 26,
   "id": "7a2ee69f-4502-4f38-bfed-0025ddf7f12a",
   "metadata": {},
   "outputs": [
    {
     "data": {
      "text/plain": [
       "<seaborn.axisgrid.FacetGrid at 0x7fa2c807aa00>"
      ]
     },
     "execution_count": 26,
     "metadata": {},
     "output_type": "execute_result"
    },
    {
     "data": {
      "image/png": "[encoded data removed]",
      "text/plain": [
       "<Figure size 360x360 with 1 Axes>"
      ]
     },
     "metadata": {
      "needs_background": "light"
     },
     "output_type": "display_data"
    }
   ],
   "source": [
    "sns.lmplot(y = 'Write Value', x = 'Delta', data=df_pandas)"
   ]
  },
  {
   "cell_type": "code",
   "execution_count": 27,
   "id": "fc4a186c-6fb2-4b69-86b3-04d69163a531",
   "metadata": {},
   "outputs": [],
   "source": [
    "# Plot distribution of pandas_df features\n",
    "# Select a single column and sample and convert to pandas\n",
    "sample_df = unionDF.select(['Delta']).sample(False, 0.1, 42)\n",
    "pandas_df = sample_df.toPandas()"
   ]
  },
  {
   "cell_type": "code",
   "execution_count": 28,
   "id": "513dc709-a5ce-409f-9d3f-23736b5ff8ca",
   "metadata": {},
   "outputs": [
    {
     "ename": "NameError",
     "evalue": "name 'c' is not defined",
     "output_type": "error",
     "traceback": [
      "\u001b[0;31m---------------------------------------------------------------------------\u001b[0m",
      "\u001b[0;31mNameError\u001b[0m                                 Traceback (most recent call last)",
      "\u001b[0;32m<ipython-input-28-ed95b19c0095>\u001b[0m in \u001b[0;36m<module>\u001b[0;34m\u001b[0m\n\u001b[1;32m      1\u001b[0m \u001b[0;31m# Plot distribution of pandas_df and display plot\u001b[0m\u001b[0;34m\u001b[0m\u001b[0;34m\u001b[0m\u001b[0;34m\u001b[0m\u001b[0m\n\u001b[0;32m----> 2\u001b[0;31m \u001b[0msns\u001b[0m\u001b[0;34m.\u001b[0m\u001b[0mdistplot\u001b[0m\u001b[0;34m(\u001b[0m\u001b[0mc\u001b[0m\u001b[0;34m)\u001b[0m\u001b[0;34m\u001b[0m\u001b[0;34m\u001b[0m\u001b[0m\n\u001b[0m\u001b[1;32m      3\u001b[0m \u001b[0mplt\u001b[0m\u001b[0;34m.\u001b[0m\u001b[0mxlabel\u001b[0m\u001b[0;34m(\u001b[0m\u001b[0;34m'Delta'\u001b[0m\u001b[0;34m)\u001b[0m\u001b[0;34m\u001b[0m\u001b[0;34m\u001b[0m\u001b[0m\n\u001b[1;32m      4\u001b[0m \u001b[0mplt\u001b[0m\u001b[0;34m.\u001b[0m\u001b[0mshow\u001b[0m\u001b[0;34m(\u001b[0m\u001b[0;34m)\u001b[0m\u001b[0;34m\u001b[0m\u001b[0;34m\u001b[0m\u001b[0m\n",
      "\u001b[0;31mNameError\u001b[0m: name 'c' is not defined"
     ]
    }
   ],
   "source": [
    "# Plot distribution of pandas_df and display plot\n",
    "sns.distplot(c)\n",
    "plt.xlabel('Delta') \n",
    "plt.show()"
   ]
  },
  {
   "cell_type": "code",
   "execution_count": null,
   "id": "a71aefed-1380-480d-8c1e-134145c42de1",
   "metadata": {},
   "outputs": [],
   "source": [
    "sns.displot(pandas_df, x=\"Delta\", bins=20, kde=True)"
   ]
  },
  {
   "cell_type": "code",
   "execution_count": null,
   "id": "42e6b2ae-1666-4cb2-871b-34869493dcd2",
   "metadata": {},
   "outputs": [],
   "source": [
    "# Filter by values - expensive homes\n",
    "unionDF.where(unionDF['Delta'] < -0.03)[['Delta']].show(10)"
   ]
  },
  {
   "cell_type": "code",
   "execution_count": null,
   "id": "3754db74-92c5-48a4-96c6-782a6f063eb6",
   "metadata": {},
   "outputs": [],
   "source": [
    "# Filter by values - expensive homes\n",
    "unionDF.where(unionDF['Delta'] > 0.02)[['Delta']].show(10)"
   ]
  },
  {
   "cell_type": "code",
   "execution_count": null,
   "id": "b60b8690-784b-45af-bf02-9c956152ae0f",
   "metadata": {},
   "outputs": [],
   "source": [
    "# Porque no los dos? (Why not both?)\n",
    "# Note that I'm using .filter() here - there is no difference b/t .where()\n",
    "# and .filter() - .where() is provided for those who are used to the SQL \n",
    "# implementation of WHERE, while .filter() is provided for the Scala familiar\n",
    "unionDF.filter((unionDF['Module Type'] < 'AIT304-T/12B') | \n",
    "          (unionDF['Delta'] < 0))[['Delta']].describe()\\\n",
    "          .show()"
   ]
  },
  {
   "cell_type": "code",
   "execution_count": 32,
   "id": "f3d0b14d-786f-4ca4-aec3-60c535a84a2d",
   "metadata": {},
   "outputs": [],
   "source": [
    "# Filter modules\n",
    "# ~ = not\n",
    "sdfAIT = unionDF.filter(col(\"Module Type\").contains(\"AIT30\")&~col(\"Module Type\").contains(\"SAIT\"))\n",
    "sdfSAIT = unionDF.filter(col(\"Module Type\").contains(\"SAIT30\"))"
   ]
  },
  {
   "cell_type": "code",
   "execution_count": 33,
   "id": "61d7ebbe-f243-4cd5-9c51-71bbdf75229a",
   "metadata": {},
   "outputs": [
    {
     "data": {
      "text/plain": [
       "[0.03, 0.03, 0.0, -0.015, -0.015]"
      ]
     },
     "execution_count": 33,
     "metadata": {},
     "output_type": "execute_result"
    }
   ],
   "source": [
    "#quantile\n",
    "sdfAIT.approxQuantile(\"Delta\", [0.95,0.75,0.5,0.25,0.05], 0.25)"
   ]
  },
  {
   "cell_type": "code",
   "execution_count": 34,
   "id": "8dd3d65b-deb1-459f-8201-d1d12daf8794",
   "metadata": {},
   "outputs": [
    {
     "data": {
      "text/plain": [
       "[0.02, 0.02, -0.021, -0.045, -0.045]"
      ]
     },
     "execution_count": 34,
     "metadata": {},
     "output_type": "execute_result"
    }
   ],
   "source": [
    "#quantile\n",
    "sdfSAIT.approxQuantile(\"Delta\", [0.95,0.75,0.5,0.25,0.05], 0.25)"
   ]
  },
  {
   "cell_type": "code",
   "execution_count": null,
   "id": "8d18ee64-0590-4d55-ba9b-60f1857900fa",
   "metadata": {},
   "outputs": [],
   "source": [
    "#create sample set of 10%\n",
    "sdfsampleAIT = sdfAIT.select(['Write Value', 'Read Value', 'Delta', 'Module Type', 'Channel']).sample(False,fraction=0.1, seed=3)#Only AIT\n",
    "sdfsampleSAIT = sdfSAIT.select(['Write Value', 'Read Value', 'Delta', 'Module Type', 'Channel']).sample(False,fraction=0.1, seed=3)#Only SAIT\n",
    "sdfsampleAll = unionDF.select(['Write Value', 'Read Value', 'Delta', 'Module Type','Channel']).sample(False,fraction=0.1, seed=3)#All Types\n",
    "print(\"Sample for AIT: \"+str(sampleAIT.count()),\"\\nSample for SAIT: \"+str(sampleSAIT.count()))\n",
    "\n",
    "#Extract Modules out from Channel from all types\n",
    "pattern = \"\"\"^%IW[0-9].[0-9].([0-9]).[0-9]\"\"\"\n",
    "sdfsampleAllModule=sdfsampleAll.select(\n",
    "    col(\"Module Type\"),\n",
    "    col(\"Channel\"),\n",
    "    regexp_extract(col(\"Channel\"), pattern, 1).alias(\"Module\"),\n",
    "    col(\"Delta\"),\n",
    "    col(\"Write Value\"),\n",
    "    col(\"Read Value\")\n",
    "    )\n",
    "#Only AIT\n",
    "sdfsampleAITModule=sdfsampleAIT.select(\n",
    "    col(\"Module Type\"),\n",
    "    col(\"Channel\"),\n",
    "    regexp_extract(col(\"Channel\"), pattern, 1).alias(\"Module\"),\n",
    "    col(\"Delta\"),\n",
    "    col(\"Write Value\"),\n",
    "    col(\"Read Value\")\n",
    "    )\n",
    "#Only SAIT\n",
    "sdfsampleSAITModule=sdfsampleSAIT.select(\n",
    "    col(\"Module Type\"),\n",
    "    col(\"Channel\"),\n",
    "    regexp_extract(col(\"Channel\"), pattern, 1).alias(\"Module\"),\n",
    "    col(\"Delta\"),\n",
    "    col(\"Write Value\"),\n",
    "    col(\"Read Value\")\n",
    "    )\n"
   ]
  },
  {
   "cell_type": "code",
   "execution_count": null,
   "id": "29c3bee8-3e72-448e-a7c2-53e33236039a",
   "metadata": {},
   "outputs": [],
   "source": [
    "# create pandas DF for visualisation\n",
    "pdfpandas_sampleAIT = sdfsampleAIT.toPandas()\n",
    "pdfpandas_sampleSAIT = sdfsampleSAIT.toPandas()\n",
    "pdfpandas_sampleAll = sdfsampleAll.toPandas()\n",
    "pdfsampleAllModule = sdfsampleAllModule.toPandas()\n",
    "pdfsampleAITModule = sdfsampleAITModule.toPandas()\n",
    "pdfsampleSAITModule = sdfsampleSAITModule.toPandas()"
   ]
  },
  {
   "cell_type": "code",
   "execution_count": null,
   "id": "a4418ff6-c5fc-4019-9b68-6d06a348f84b",
   "metadata": {},
   "outputs": [],
   "source": [
    "pdfsampleAllModule.head()"
   ]
  },
  {
   "cell_type": "code",
   "execution_count": null,
   "id": "08f2108e-e0bd-4006-9c58-6ace8ca36360",
   "metadata": {},
   "outputs": [],
   "source": [
    "pdfpandas_sampleAll.head()"
   ]
  },
  {
   "cell_type": "code",
   "execution_count": null,
   "id": "b447ec86-4039-4736-b29c-8483823da9ce",
   "metadata": {},
   "outputs": [],
   "source": [
    "#All\n",
    "sns.displot(pdfpandas_sampleAll, x=\"Delta\", hue=\"Module Type\", stat=\"density\")"
   ]
  },
  {
   "cell_type": "code",
   "execution_count": null,
   "id": "f030f5a4-0d11-45d0-bd2f-f6125815695d",
   "metadata": {},
   "outputs": [],
   "source": [
    "#All\n",
    "sns.displot(pdfpandas_sampleAll, x=\"Delta\", hue=\"Module Type\", kind=\"kde\",fill=True)"
   ]
  },
  {
   "cell_type": "code",
   "execution_count": null,
   "id": "b3f8bb4f-8e52-498e-b9ac-72ed7bc20f7e",
   "metadata": {},
   "outputs": [],
   "source": [
    "#All\n",
    "sns.jointplot(data=pdfpandas_sampleAll, x=\"Write Value\", y=\"Delta\", hue=\"Module Type\")"
   ]
  },
  {
   "cell_type": "code",
   "execution_count": null,
   "id": "dcadb119-b231-4284-9edf-9d34be59cc41",
   "metadata": {},
   "outputs": [],
   "source": [
    "sns.pairplot(pdfpandas_sampleAll)"
   ]
  },
  {
   "cell_type": "code",
   "execution_count": null,
   "id": "14d29e51-c786-4a38-8b26-1a4e98a7084b",
   "metadata": {},
   "outputs": [],
   "source": [
    "#All\n",
    "sns.catplot(x=\"Module Type\", y=\"Delta\", kind=\"box\", data=pdfpandas_sampleAll)"
   ]
  },
  {
   "cell_type": "code",
   "execution_count": null,
   "id": "8da4b316-b4d1-4f2c-9b6d-df8d88fba640",
   "metadata": {},
   "outputs": [],
   "source": [
    "g = sns.catplot(x=\"Delta\", y=\"Module\", row=\"Module Type\",\n",
    "                kind=\"box\", orient=\"h\", height=1.5, aspect=4,\n",
    "                data=pdfsampleAllModule)\n",
    "g.set(xscale=\"log\")"
   ]
  },
  {
   "cell_type": "code",
   "execution_count": null,
   "id": "b40dae0e-74db-44ac-8d55-be3d1f2da1fb",
   "metadata": {},
   "outputs": [],
   "source": [
    "pdfpandas_sampleAll.head()"
   ]
  },
  {
   "cell_type": "code",
   "execution_count": null,
   "id": "3317d8cc-3fb3-40eb-9db1-302d4ba417fc",
   "metadata": {},
   "outputs": [],
   "source": [
    "#AIT\n",
    "sns.lmplot(y = 'Write Value', x = 'Delta', data=pdfpandas_sampleAIT)"
   ]
  },
  {
   "cell_type": "code",
   "execution_count": null,
   "id": "6fb53a21-8598-4d63-a74e-627a572b5288",
   "metadata": {},
   "outputs": [],
   "source": []
  },
  {
   "cell_type": "code",
   "execution_count": null,
   "id": "40c7f920-e2f9-4c44-b871-d28d93fa002b",
   "metadata": {},
   "outputs": [],
   "source": [
    "#AIT\n",
    "# Plot distribution of pandas_df and display plot\n",
    "sns.distplot(pdfpandas_sampleAIT)\n",
    "plt.xlabel('Delta') \n",
    "plt.show()"
   ]
  },
  {
   "cell_type": "code",
   "execution_count": null,
   "id": "62250f4b-7b1f-456d-8b24-64ef255d306c",
   "metadata": {},
   "outputs": [],
   "source": [
    "#AIT\n",
    "sns.displot(pdfpandas_sampleAIT, x=\"Delta\", bins=20, kde=True)"
   ]
  },
  {
   "cell_type": "code",
   "execution_count": null,
   "id": "5404bd6c-14c8-4e68-9e3e-e76a2f5a51b2",
   "metadata": {},
   "outputs": [],
   "source": [
    "#SAIT\n",
    "sns.lmplot(y = 'Write Value', x = 'Delta', data=pdfpandas_sampleSAIT)"
   ]
  },
  {
   "cell_type": "code",
   "execution_count": null,
   "id": "d81d59e6-4612-4c7c-bd71-0a02b5cfed1a",
   "metadata": {},
   "outputs": [],
   "source": [
    "# SAIT\n",
    "# Plot distribution of pandas_df and display plot\n",
    "sns.distplot(pdfpandas_sampleSAIT)\n",
    "plt.xlabel('Delta') \n",
    "plt.show()"
   ]
  },
  {
   "cell_type": "code",
   "execution_count": null,
   "id": "b4e5a464-2b88-4761-86c3-cd69f12b7ed6",
   "metadata": {},
   "outputs": [],
   "source": [
    "#SAIT\n",
    "sns.displot(pdfpandas_sampleSAIT, x=\"Delta\", bins=20, kde=True)"
   ]
  },
  {
   "cell_type": "code",
   "execution_count": null,
   "id": "e2bf3874-9ac6-4029-9251-b16dd83f6cc1",
   "metadata": {},
   "outputs": [],
   "source": [
    "#AIT Type by Module\n",
    "sns.jointplot(data=pdfsampleAITModule, x=\"Write Value\", y=\"Delta\", hue=\"Module\")\n",
    "\n"
   ]
  },
  {
   "cell_type": "code",
   "execution_count": null,
   "id": "cae0b2e0-dc5b-4936-a938-b288a5cb7aab",
   "metadata": {},
   "outputs": [],
   "source": [
    "#AIT\n",
    "sns.catplot(x=\"Module\", y=\"Delta\", kind=\"box\", data=pdfsampleAITModule)"
   ]
  },
  {
   "cell_type": "code",
   "execution_count": null,
   "id": "cbb38228-2638-47fe-8114-935da2f412a2",
   "metadata": {},
   "outputs": [],
   "source": [
    "#SAIT Type by Module\n",
    "sns.jointplot(data=pdfsampleSAITModule, x=\"Write Value\", y=\"Delta\", hue=\"Module\")\n"
   ]
  },
  {
   "cell_type": "code",
   "execution_count": null,
   "id": "90d46c2f-507d-449f-85c0-f044ff8da0ab",
   "metadata": {},
   "outputs": [],
   "source": [
    "sns.catplot(x=\"Module\", y=\"Delta\", kind=\"box\", data=pdfsampleSAITModule)"
   ]
  },
  {
   "cell_type": "code",
   "execution_count": null,
   "id": "92e8e522-ef37-4b9e-9efa-ceab97737fd4",
   "metadata": {},
   "outputs": [],
   "source": [
    "#DO Load Analysis \n",
    "pdf100 = pandas.read_excel('/Users/felix.baertschi/Documents/Dev/school/excel/2020-12-10_1608_TestName_0000_0000.xlsx', sheet_name='DO Load Analysis - Single Ch')"
   ]
  },
  {
   "cell_type": "code",
   "execution_count": null,
   "id": "6bef6088-9b1d-48f9-9c07-3ad037a89a66",
   "metadata": {},
   "outputs": [],
   "source": []
  },
  {
   "cell_type": "code",
   "execution_count": null,
   "id": "b9285088-2557-4038-b55c-19affea19581",
   "metadata": {},
   "outputs": [],
   "source": []
  }
 ],
 "metadata": {
  "kernelspec": {
   "display_name": "Python 3",
   "language": "python",
   "name": "python3"
  },
  "language_info": {
   "codemirror_mode": {
    "name": "ipython",
    "version": 3
   },
   "file_extension": ".py",
   "mimetype": "text/x-python",
   "name": "python",
   "nbconvert_exporter": "python",
   "pygments_lexer": "ipython3",
   "version": "3.8.8"
  }
 },
 "nbformat": 4,
 "nbformat_minor": 5
}
